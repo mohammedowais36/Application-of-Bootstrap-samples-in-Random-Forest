{
  "cells": [
    {
      "cell_type": "markdown",
      "metadata": {
        "id": "3sNKZq4XrXQh"
      },
      "source": [
        "# <font color='red'><b>Bootstrap assignment</b> </font>"
      ]
    },
    {
      "cell_type": "markdown",
      "metadata": {
        "id": "RAHap1Z3FZC-"
      },
      "source": [
        "<b>There will be some functions that start with the word \"grader\" ex: grader_sampples(), grader_30().. etc, you should not change those function definition.\n",
        "\n",
        "Every Grader function has to return True.</b>"
      ]
    },
    {
      "cell_type": "markdown",
      "metadata": {
        "id": "cuxBq_bvrwh2"
      },
      "source": [
        "<font color='blue'> <b>Importing packages</b> </font>"
      ]
    },
    {
      "cell_type": "code",
      "execution_count": null,
      "metadata": {
        "id": "m6ag91ijrQOs"
      },
      "outputs": [],
      "source": [
        "import numpy as np # importing numpy for numerical computation\n",
        "from sklearn.datasets import load_boston # here we are using sklearn's boston dataset\n",
        "from sklearn.metrics import mean_squared_error # importing mean_squared_error metric\n",
        "import random"
      ]
    },
    {
      "cell_type": "code",
      "execution_count": null,
      "metadata": {
        "id": "CcHOsONTt1K_",
        "colab": {
          "base_uri": "https://localhost:8080/"
        },
        "outputId": "29eb07a1-c436-4e4e-8b4a-0afb6f1c2413"
      },
      "outputs": [
        {
          "output_type": "stream",
          "name": "stderr",
          "text": [
            "/usr/local/lib/python3.7/dist-packages/sklearn/utils/deprecation.py:87: FutureWarning: Function load_boston is deprecated; `load_boston` is deprecated in 1.0 and will be removed in 1.2.\n",
            "\n",
            "    The Boston housing prices dataset has an ethical problem. You can refer to\n",
            "    the documentation of this function for further details.\n",
            "\n",
            "    The scikit-learn maintainers therefore strongly discourage the use of this\n",
            "    dataset unless the purpose of the code is to study and educate about\n",
            "    ethical issues in data science and machine learning.\n",
            "\n",
            "    In this special case, you can fetch the dataset from the original\n",
            "    source::\n",
            "\n",
            "        import pandas as pd\n",
            "        import numpy as np\n",
            "\n",
            "\n",
            "        data_url = \"http://lib.stat.cmu.edu/datasets/boston\"\n",
            "        raw_df = pd.read_csv(data_url, sep=\"\\s+\", skiprows=22, header=None)\n",
            "        data = np.hstack([raw_df.values[::2, :], raw_df.values[1::2, :2]])\n",
            "        target = raw_df.values[1::2, 2]\n",
            "\n",
            "    Alternative datasets include the California housing dataset (i.e.\n",
            "    :func:`~sklearn.datasets.fetch_california_housing`) and the Ames housing\n",
            "    dataset. You can load the datasets as follows::\n",
            "\n",
            "        from sklearn.datasets import fetch_california_housing\n",
            "        housing = fetch_california_housing()\n",
            "\n",
            "    for the California housing dataset and::\n",
            "\n",
            "        from sklearn.datasets import fetch_openml\n",
            "        housing = fetch_openml(name=\"house_prices\", as_frame=True)\n",
            "\n",
            "    for the Ames housing dataset.\n",
            "    \n",
            "  warnings.warn(msg, category=FutureWarning)\n"
          ]
        },
        {
          "output_type": "execute_result",
          "data": {
            "text/plain": [
              "array([6.320e-03, 1.800e+01, 2.310e+00, 0.000e+00, 5.380e-01, 6.575e+00,\n",
              "       6.520e+01, 4.090e+00, 1.000e+00, 2.960e+02, 1.530e+01, 3.969e+02,\n",
              "       4.980e+00])"
            ]
          },
          "metadata": {},
          "execution_count": 3
        }
      ],
      "source": [
        "boston = load_boston()\n",
        "x=boston.data #independent variables\n",
        "y=boston.target #target variable\n",
        "type(x)\n",
        "x[0]"
      ]
    },
    {
      "cell_type": "code",
      "execution_count": null,
      "metadata": {
        "colab": {
          "base_uri": "https://localhost:8080/"
        },
        "id": "pc1htEFYuLRj",
        "outputId": "6228533c-9575-409e-eff0-90e5cc90644c"
      },
      "outputs": [
        {
          "output_type": "execute_result",
          "data": {
            "text/plain": [
              "(506, 13)"
            ]
          },
          "metadata": {},
          "execution_count": 4
        }
      ],
      "source": [
        "x.shape"
      ]
    },
    {
      "cell_type": "code",
      "execution_count": null,
      "metadata": {
        "colab": {
          "base_uri": "https://localhost:8080/"
        },
        "id": "kQle3T_wuOa3",
        "outputId": "d74dbe68-2087-4132-de76-5b8ef25fa488"
      },
      "outputs": [
        {
          "output_type": "execute_result",
          "data": {
            "text/plain": [
              "array([[6.3200e-03, 1.8000e+01, 2.3100e+00, 0.0000e+00, 5.3800e-01,\n",
              "        6.5750e+00, 6.5200e+01, 4.0900e+00, 1.0000e+00, 2.9600e+02,\n",
              "        1.5300e+01, 3.9690e+02, 4.9800e+00],\n",
              "       [2.7310e-02, 0.0000e+00, 7.0700e+00, 0.0000e+00, 4.6900e-01,\n",
              "        6.4210e+00, 7.8900e+01, 4.9671e+00, 2.0000e+00, 2.4200e+02,\n",
              "        1.7800e+01, 3.9690e+02, 9.1400e+00],\n",
              "       [2.7290e-02, 0.0000e+00, 7.0700e+00, 0.0000e+00, 4.6900e-01,\n",
              "        7.1850e+00, 6.1100e+01, 4.9671e+00, 2.0000e+00, 2.4200e+02,\n",
              "        1.7800e+01, 3.9283e+02, 4.0300e+00],\n",
              "       [3.2370e-02, 0.0000e+00, 2.1800e+00, 0.0000e+00, 4.5800e-01,\n",
              "        6.9980e+00, 4.5800e+01, 6.0622e+00, 3.0000e+00, 2.2200e+02,\n",
              "        1.8700e+01, 3.9463e+02, 2.9400e+00],\n",
              "       [6.9050e-02, 0.0000e+00, 2.1800e+00, 0.0000e+00, 4.5800e-01,\n",
              "        7.1470e+00, 5.4200e+01, 6.0622e+00, 3.0000e+00, 2.2200e+02,\n",
              "        1.8700e+01, 3.9690e+02, 5.3300e+00]])"
            ]
          },
          "metadata": {},
          "execution_count": 5
        }
      ],
      "source": [
        "x[:5]"
      ]
    },
    {
      "cell_type": "markdown",
      "metadata": {
        "id": "AEa_HqRZloH4"
      },
      "source": [
        "## <font color='red'><b>Task 1</b></font>"
      ]
    },
    {
      "cell_type": "markdown",
      "metadata": {
        "id": "YQ5q8IxHNRk3"
      },
      "source": [
        "<font color='red'> <b>Step - 1</b></font>"
      ]
    },
    {
      "cell_type": "markdown",
      "metadata": {
        "id": "GJCFCaOzl7Mr"
      },
      "source": [
        "*  <font color='blue'><b>Creating samples</b></font><br>\n",
        "    <b> Randomly create 30 samples from the whole boston data points</b>\n",
        "    *  Creating each sample: Consider any random 303(60% of 506) data points from whole data set and then replicate any 203 points from the sampled points\n",
        "    \n",
        "     For better understanding of this procedure lets check this examples, assume we have 10 data points [1,2,3,4,5,6,7,8,9,10], first we take 6 data points randomly , consider we have selected [4, 5, 7, 8, 9, 3] now we will replicate 4 points from [4, 5, 7, 8, 9, 3], consder they are [5, 8, 3,7] so our final sample will be [4, 5, 7, 8, 9, 3, 5, 8, 3,7]\n",
        "* <font color='blue'><b> Create 30 samples </b></font>\n",
        "    *  Note that as a part of the Bagging when you are taking the random samples <b>make sure each of the sample will have different set of columns</b><br>\n",
        "Ex: Assume we have 10 columns[1 ,2 ,3 ,4 ,5 ,6 ,7 ,8 ,9 ,10] for the first sample we will select [3, 4, 5, 9, 1, 2] and for the second sample  [7, 9, 1, 4, 5, 6, 2] and so on...\n",
        "Make sure each sample will have atleast 3 feautres/columns/attributes\n",
        "\n",
        "* <font color='red'><b> Note - While selecting the random 60% datapoints from the whole data, make sure that the selected datapoints are all exclusive, repetition is not allowed. </b></font>"
      ]
    },
    {
      "cell_type": "markdown",
      "metadata": {
        "id": "zUqFEBSvNjCa"
      },
      "source": [
        "<font color='red'><b>Step - 2 </b></font>"
      ]
    },
    {
      "cell_type": "markdown",
      "metadata": {
        "id": "uqi9AhCYNq3Z"
      },
      "source": [
        "<font color='blue'><b>Building High Variance Models on each of the sample and finding train MSE value</b></font>"
      ]
    },
    {
      "cell_type": "markdown",
      "metadata": {
        "id": "-lLBnZHXOFln"
      },
      "source": [
        "*  Build a regression trees on each of 30 samples.\n",
        "*  Computed the predicted values of each data point(506 data points) in your corpus.\n",
        "*  Predicted house price of $i^{th}$ data point $y^{i}_{pred} =  \\frac{1}{30}\\sum_{k=1}^{30}(\\text{predicted value of } x^{i} \\text{ with } k^{th} \\text{ model})$\n",
        "*  Now calculate the $MSE =  \\frac{1}{506}\\sum_{i=1}^{506}(y^{i} - y^{i}_{pred})^{2}$"
      ]
    },
    {
      "cell_type": "markdown",
      "metadata": {
        "id": "Kls23JLnSN23"
      },
      "source": [
        "<font color='red'> <b>Step - 3 </b></font>"
      ]
    },
    {
      "cell_type": "markdown",
      "metadata": {
        "id": "rz2GchkGSWnh"
      },
      "source": [
        "*  <font color='blue'><b>Calculating the OOB score </b></font>"
      ]
    },
    {
      "cell_type": "markdown",
      "metadata": {
        "id": "DGHkVV2kSibm"
      },
      "source": [
        "*  Predicted house price of $i^{th}$ data point $y^{i}_{pred} =  \\frac{1}{k}\\sum_{\\text{k= model which was buit on samples not included } x^{i}}(\\text{predicted value of } x^{i} \\text{ with } k^{th} \\text{ model})$.\n",
        "*  Now calculate the $OOB Score =  \\frac{1}{506}\\sum_{i=1}^{506}(y^{i} - y^{i}_{pred})^{2}$."
      ]
    },
    {
      "cell_type": "markdown",
      "metadata": {
        "id": "RK860ocxTyoz"
      },
      "source": [
        "# <font color='red'><b>Task 2</b></font>"
      ]
    },
    {
      "cell_type": "markdown",
      "metadata": {
        "id": "1dme-N6TUCrY"
      },
      "source": [
        "*  <font color='blue'><b>Computing CI of OOB Score and Train MSE</b></font>\n",
        "  *   Repeat Task 1 for 35 times, and for each iteration store the Train MSE and OOB score </li>\n",
        "<li> After this we will have 35 Train MSE values and 35 OOB scores </li>\n",
        "<li> using these 35 values (assume like a sample) find the confidence intravels of MSE and OOB Score </li>\n",
        "<li> you need to report CI of MSE and CI of OOB Score </li>\n",
        "<li> Note: Refer the Central_Limit_theorem.ipynb to check how to find the confidence intravel</li>\n",
        "</ol>"
      ]
    },
    {
      "cell_type": "markdown",
      "metadata": {
        "id": "O6UcH1x9Uwrj"
      },
      "source": [
        "# <font color='red'><b>Task 3</b></font>"
      ]
    },
    {
      "cell_type": "markdown",
      "metadata": {
        "id": "bOC_AgsLU7OH"
      },
      "source": [
        "*  <font color='blue'><b>Given a single query point predict the price of house.</b></font>"
      ]
    },
    {
      "cell_type": "markdown",
      "metadata": {
        "id": "HYs5jSFdVILe"
      },
      "source": [
        "Consider xq= [0.18,20.0,5.00,0.0,0.421,5.60,72.2,7.95,7.0,30.0,19.1,372.13,18.60] \n",
        "Predict the house price for this point as mentioned in the step 2 of Task 1."
      ]
    },
    {
      "cell_type": "markdown",
      "metadata": {
        "id": "u6rShd89t552"
      },
      "source": [
        "## <font color='red'><b>A few key points</b></font>"
      ]
    },
    {
      "cell_type": "markdown",
      "metadata": {
        "id": "XdgTUXTouHEd"
      },
      "source": [
        "* Remember that the datapoints used for calculating MSE score contain some datapoints that were initially used while training the base learners (the 60% sampling). This makes these datapoints partially seen (i.e. the datapoints used for calculating the MSE score are a mixture of seen and unseen data).\n",
        "Whereas, the datapoints used for calculating OOB score have only the unseen data. This makes these datapoints completely unseen and therefore appropriate for testing the model's performance on unseen data.\n",
        "\n",
        "* Given the information above, if your logic is correct, the calculated MSE score should be less than the OOB score.\n",
        "\n",
        "* The MSE score must lie between 0 and 10.\n",
        "* The OOB score must lie between 10 and 35.\n",
        "\n",
        "* The difference between the left nad right confidence-interval values must not be more than 10. Make sure this is true for both MSE and OOB confidence-interval values."
      ]
    },
    {
      "cell_type": "markdown",
      "metadata": {
        "id": "V2fHTdS_zpgG"
      },
      "source": [
        "# <font color='blue'> <b>Task - 1</b></font>"
      ]
    },
    {
      "cell_type": "markdown",
      "metadata": {
        "id": "e0yGBuryOwHz"
      },
      "source": [
        "<font color='blue'><b>Step - 1</b></font>"
      ]
    },
    {
      "cell_type": "markdown",
      "metadata": {
        "id": "lJXX8vf3z073"
      },
      "source": [
        "*  <font color='blue'> <b>Creating samples</b></font>"
      ]
    },
    {
      "cell_type": "markdown",
      "metadata": {
        "id": "CSVaWG1F4uCZ"
      },
      "source": [
        "<font color='Orange'><b>Algorithm</b></font>\n",
        "\n",
        "![alt text](https://i.imgur.com/OfcFrUP.jpg/)"
      ]
    },
    {
      "cell_type": "markdown",
      "metadata": {
        "id": "f_oWoN97BhDY"
      },
      "source": [
        "*  <font color='blue'><b> Write code for generating samples</b></font>"
      ]
    },
    {
      "cell_type": "code",
      "execution_count": null,
      "metadata": {
        "id": "Ph_6D2SDzz7F"
      },
      "outputs": [],
      "source": [
        "def generating_samples(input_data, target_data):\n",
        "  selected_rows = np.random.choice(len(input_data) , 303 , replace=False)\n",
        "  selected_rows = np.sort(selected_rows)\n",
        "  replaced_rows = np.random.choice(selected_rows,203 , replace = False)\n",
        "  replaced_rows = np.sort(replaced_rows)\n",
        "  selected_columns = np.sort(np.random.choice(input_data.shape[1],size=random.randint(4,input_data.shape[1]),replace =False))\n",
        "  sample_data = input_data[selected_rows[:,None],selected_columns]\n",
        "  target_sameple_data = target_data[selected_rows]\n",
        "\n",
        "  replacating_data = input_data[replaced_rows[:,None],selected_columns]\n",
        "  target_replacating_data = target_data[replaced_rows]\n",
        "  final_sample_data = np.vstack((sample_data, replacating_data))\n",
        "  final_target_data = np.vstack((target_sameple_data.reshape(-1,1),target_replacating_data.reshape(-1,1)))\n",
        "  return final_sample_data , final_target_data,selected_rows,selected_columns\n",
        "    \n",
        "    # you can use random.choice to generate random indices without replacement\n",
        "    # Please have a look at this link https://docs.scipy.org/doc/numpy-1.16.0/reference/generated/numpy.random.choice.html for more details\n",
        "    # Please follow above pseudo code for generating samples \n",
        "    \n",
        "\n",
        "    # return sampled_input_data , sampled_target_data,selected_rows,selected_columns\n",
        "    #note please return as lists"
      ]
    },
    {
      "cell_type": "markdown",
      "metadata": {
        "id": "MivEQFlm7iOg"
      },
      "source": [
        "<font color='cyan'> <b> Grader function - 1 </b> </fongt>"
      ]
    },
    {
      "cell_type": "code",
      "execution_count": null,
      "metadata": {
        "id": "AVvuhNzm7uld",
        "colab": {
          "base_uri": "https://localhost:8080/"
        },
        "outputId": "e8495381-0c5b-406e-de81-997f0b062086"
      },
      "outputs": [
        {
          "output_type": "execute_result",
          "data": {
            "text/plain": [
              "True"
            ]
          },
          "metadata": {},
          "execution_count": 7
        }
      ],
      "source": [
        "def grader_samples(a,b,c,d):\n",
        "    length = (len(a)==506  and len(b)==506)\n",
        "    sampled = (len(a)-len(set([str(i) for i in a]))==203)\n",
        "    rows_length = (len(c)==303)\n",
        "    column_length= (len(d)>=3)\n",
        "    assert(length and sampled and rows_length and column_length)\n",
        "    return True\n",
        "a,b,c,d = generating_samples(x, y)\n",
        "grader_samples(a,b,c,d)"
      ]
    },
    {
      "cell_type": "markdown",
      "metadata": {
        "id": "b4LSsmn4Jn2_"
      },
      "source": [
        "*  <font color='blue'> <b>Create 30 samples </b>"
      ]
    },
    {
      "cell_type": "markdown",
      "metadata": {
        "id": "3ec7MN6sL2BZ"
      },
      "source": [
        "![alt text](https://i.imgur.com/p8eZaWL.jpg)"
      ]
    },
    {
      "cell_type": "code",
      "execution_count": null,
      "metadata": {
        "id": "XXlKWjCcBvTk"
      },
      "outputs": [],
      "source": [
        "# Use generating_samples function to create 30 samples \n",
        "# store these created samples in a list\n",
        "list_input_data =[]\n",
        "list_output_data =[]\n",
        "list_selected_row= []\n",
        "list_selected_columns=[]\n",
        "\n",
        "for i in range(0,30):\n",
        "  final_sample_data , final_target_data,selected_rows,selected_columns = generating_samples(x,y) \n",
        "  #grader_samples(final_sample_data , final_target_data,selected_rows,selected_columns)\n",
        "  list_input_data.append(final_sample_data)\n",
        "  list_output_data.append(final_target_data)\n",
        "  list_selected_row.append(selected_rows)\n",
        "  list_selected_columns.append(selected_columns)"
      ]
    },
    {
      "cell_type": "markdown",
      "metadata": {
        "id": "MXUz9VFiMQkh"
      },
      "source": [
        "<font color='cyan'> <b>Grader function - 2 </b></font>"
      ]
    },
    {
      "cell_type": "code",
      "execution_count": null,
      "metadata": {
        "id": "hCvIq8NuMWOC",
        "colab": {
          "base_uri": "https://localhost:8080/"
        },
        "outputId": "72a0bdcd-ab5d-43b7-b341-fd694937e305"
      },
      "outputs": [
        {
          "output_type": "execute_result",
          "data": {
            "text/plain": [
              "True"
            ]
          },
          "metadata": {},
          "execution_count": 10
        }
      ],
      "source": [
        "def grader_30(a):\n",
        "    assert(len(a)==30 and len(a[0])==506)\n",
        "    return True\n",
        "grader_30(list_input_data)"
      ]
    },
    {
      "cell_type": "markdown",
      "metadata": {
        "id": "7Pv-mkZkO6dh"
      },
      "source": [
        "<br>"
      ]
    },
    {
      "cell_type": "markdown",
      "metadata": {
        "id": "whaHCPB0O8qF"
      },
      "source": [
        "<font color='red'><b>Step - 2 </b></font>"
      ]
    },
    {
      "cell_type": "markdown",
      "metadata": {
        "id": "XBy4zXSWPtU8"
      },
      "source": [
        "<font color='orange'><b>Flowchart for building tree</b></font>"
      ]
    },
    {
      "cell_type": "markdown",
      "metadata": {
        "id": "5xvH06HPQBdP"
      },
      "source": [
        "![alt text](https://i.imgur.com/pcXfSmp.png)"
      ]
    },
    {
      "cell_type": "markdown",
      "metadata": {
        "id": "WRwPO_uHQjul"
      },
      "source": [
        "*  <font color='blue'><b> Write code for building regression trees</b></font>"
      ]
    },
    {
      "cell_type": "code",
      "execution_count": null,
      "metadata": {
        "id": "YWQp6tRwMthq"
      },
      "outputs": [],
      "source": [
        "from sklearn.tree import DecisionTreeRegressor\n",
        "list_of_all_models = [] \n",
        "for i in range(0, 30):\n",
        "  input_data = list_input_data[i]\n",
        "  target_data = list_output_data[i]\n",
        "  classifier = DecisionTreeRegressor(max_depth=None,min_samples_split=2)\n",
        "  classifier.fit(input_data,target_data)\n",
        "  list_of_all_models.append(classifier)"
      ]
    },
    {
      "cell_type": "markdown",
      "metadata": {
        "id": "21j8BKfAQ1U8"
      },
      "source": [
        "<font color='orange'><b>Flowchart for calculating MSE </b></font>"
      ]
    },
    {
      "cell_type": "markdown",
      "metadata": {
        "id": "8Q0mTBD2RBx_"
      },
      "source": [
        "![alt text](https://i.imgur.com/sPEE618.png)"
      ]
    },
    {
      "cell_type": "markdown",
      "metadata": {
        "id": "6e-UamlHRjPy"
      },
      "source": [
        "After getting predicted_y for each data point, we can use sklearns mean_squared_error to calculate the MSE between predicted_y and actual_y."
      ]
    },
    {
      "cell_type": "markdown",
      "metadata": {
        "id": "TnIMT7_oR312"
      },
      "source": [
        "*  <font color='blue'><b> Write code for calculating MSE</b></font>"
      ]
    },
    {
      "cell_type": "code",
      "execution_count": null,
      "metadata": {
        "id": "qWhcvMRWRA9b",
        "colab": {
          "base_uri": "https://localhost:8080/"
        },
        "outputId": "fd65b12b-4325-4021-cc97-4807eeecf3a6"
      },
      "outputs": [
        {
          "output_type": "stream",
          "name": "stdout",
          "text": [
            "==============================\n",
            "MSE on train data set :  0.26497035573122535\n",
            "==============================\n"
          ]
        }
      ],
      "source": [
        "import statistics\n",
        "list_predict = []\n",
        "for i in range(0,30):\n",
        "  pred_y = list_of_all_models[i].predict(x[:,list_selected_columns[i]])\n",
        "  list_predict.append(pred_y)\n",
        "\n",
        "final_y_predict = []\n",
        "for i in range(0 , 506):\n",
        "  med_y = []\n",
        "  for j in range(0 , 30):\n",
        "    med_y.append(list_predict[j][i])\n",
        "  med = statistics.median(med_y)\n",
        "  final_y_predict.append(med)\n",
        "\n",
        "from sklearn.metrics import mean_squared_error\n",
        "mse = mean_squared_error(y, final_y_predict)\n",
        "print(\"=\" * 30)\n",
        "print(\"MSE on train data set : \" , mse)\n",
        "print(\"=\" * 30)"
      ]
    },
    {
      "cell_type": "markdown",
      "metadata": {
        "id": "RuclPDMnSz8F"
      },
      "source": [
        "<font color='blue'><b>Step - 3 </b></font>"
      ]
    },
    {
      "cell_type": "markdown",
      "metadata": {
        "id": "ESb9FSIDTM5V"
      },
      "source": [
        "<font color='orange'><b>Flowchart for calculating OOB score</b></font>"
      ]
    },
    {
      "cell_type": "markdown",
      "metadata": {
        "id": "HB-d6NMETbd9"
      },
      "source": [
        "![alt text](https://i.imgur.com/95S5Mtm.png)"
      ]
    },
    {
      "cell_type": "markdown",
      "metadata": {
        "id": "WW3GOcFzTqbt"
      },
      "source": [
        "Now calculate the $OOB Score =  \\frac{1}{506}\\sum_{i=1}^{506}(y^{i} - y^{i}_{pred})^{2}$."
      ]
    },
    {
      "cell_type": "markdown",
      "metadata": {
        "id": "zBqcS03pUYSZ"
      },
      "source": [
        "*  <font color='blue'><b> Write code for calculating OOB score </b></font>"
      ]
    },
    {
      "cell_type": "code",
      "execution_count": null,
      "metadata": {
        "id": "Fog_6DNdS-h_",
        "colab": {
          "base_uri": "https://localhost:8080/"
        },
        "outputId": "e754c0da-e967-4aee-c492-e3eff1731d84"
      },
      "outputs": [
        {
          "output_type": "stream",
          "name": "stdout",
          "text": [
            "==============================\n",
            "OOBS Score :  13.947570713396306\n",
            "==============================\n"
          ]
        }
      ],
      "source": [
        "oob_y_predict = [] \n",
        "y_sample_predict = []\n",
        "for i in range (0,506):\n",
        "  data = x[i]\n",
        "  for j in range(0,30):\n",
        "    if i not in list_selected_row[j]:\n",
        "      pred_y = list_of_all_models[j].predict(data[list_selected_columns[j]].reshape(1,-1))\n",
        "      y_sample_predict.append(pred_y[0])\n",
        "  y_sample_predict_oobs = statistics.median(y_sample_predict)\n",
        "  y_sample_predict.clear()\n",
        "  oob_y_predict.append(y_sample_predict_oobs)\n",
        "\n",
        "total_error = 0\n",
        "for i in range(0,506):\n",
        "  error = y[i] - oob_y_predict[i] \n",
        "  error = error * error\n",
        "  total_error = total_error + error\n",
        "oobs_score = total_error/506\n",
        "print(\"=\" * 30)\n",
        "print(\"OOBS Score : \" , oobs_score)\n",
        "print(\"=\" * 30)"
      ]
    },
    {
      "cell_type": "code",
      "source": [
        "xq = np.array([0.18,20.0,5.00,0.0,0.421,5.60,72.2,7.95,7.0,30.0,19.1,372.13,18.60])\n",
        "total_price = 0\n",
        "for j in range(0,30):\n",
        "  pred_y = list_of_all_models[j].predict(xq[list_selected_columns[j]].reshape(1,-1))\n",
        "  total_price += pred_y\n",
        "\n",
        "predicted_price = total_price/30\n",
        "\n",
        "print(\"=\" * 30)\n",
        "print(\"Predicted price for query point xq is :\" , predicted_price)\n",
        "print(\"=\" * 30)"
      ],
      "metadata": {
        "colab": {
          "base_uri": "https://localhost:8080/"
        },
        "id": "xqHAODTaESiX",
        "outputId": "564aed1f-a063-40bf-d6eb-391bb31af41f"
      },
      "execution_count": null,
      "outputs": [
        {
          "output_type": "stream",
          "name": "stdout",
          "text": [
            "==============================\n",
            "Predicted price for query point xq is : [20.96333333]\n",
            "==============================\n"
          ]
        }
      ]
    },
    {
      "cell_type": "markdown",
      "metadata": {
        "id": "sbuiwX3OUjUI"
      },
      "source": [
        "# <font color='blue'><b>Task 2</b></font>"
      ]
    },
    {
      "cell_type": "code",
      "execution_count": null,
      "metadata": {
        "id": "ceW5-D88Uswi",
        "colab": {
          "base_uri": "https://localhost:8080/"
        },
        "outputId": "0961c720-a821-473a-d1f7-1a4051ddd3ac"
      },
      "outputs": [
        {
          "output_type": "stream",
          "name": "stdout",
          "text": [
            "==============================\n",
            "Iteration = :  1\n",
            "MSE on train data  0.043008893280632406\n",
            "OOBS Score :  15.084097570119459\n",
            "==============================\n",
            "==============================\n",
            "Iteration = :  2\n",
            "MSE on train data  0.04547924901185772\n",
            "OOBS Score :  12.21238435445286\n",
            "==============================\n",
            "==============================\n",
            "Iteration = :  3\n",
            "MSE on train data  0.02351284584980239\n",
            "OOBS Score :  12.49810249231446\n",
            "==============================\n",
            "==============================\n",
            "Iteration = :  4\n",
            "MSE on train data  0.037179402722880964\n",
            "OOBS Score :  13.275162048406596\n",
            "==============================\n",
            "==============================\n",
            "Iteration = :  5\n",
            "MSE on train data  0.051283307867320584\n",
            "OOBS Score :  10.124735530936182\n",
            "==============================\n",
            "==============================\n",
            "Iteration = :  6\n",
            "MSE on train data  0.11181324110671939\n",
            "OOBS Score :  15.15659066754501\n",
            "==============================\n",
            "==============================\n",
            "Iteration = :  7\n",
            "MSE on train data  0.019975296442687723\n",
            "OOBS Score :  13.469535573122533\n",
            "==============================\n",
            "==============================\n",
            "Iteration = :  8\n",
            "MSE on train data  0.01525691699604744\n",
            "OOBS Score :  12.810499011857704\n",
            "==============================\n",
            "==============================\n",
            "Iteration = :  9\n",
            "MSE on train data  0.11164525691699612\n",
            "OOBS Score :  13.553616600790509\n",
            "==============================\n",
            "==============================\n",
            "Iteration = :  10\n",
            "MSE on train data  0.05310276679841898\n",
            "OOBS Score :  13.481660079051379\n",
            "==============================\n",
            "==============================\n",
            "Iteration = :  11\n",
            "MSE on train data  0.0992292490118577\n",
            "OOBS Score :  14.402109683794476\n",
            "==============================\n",
            "==============================\n",
            "Iteration = :  12\n",
            "MSE on train data  0.07319664031620551\n",
            "OOBS Score :  12.133666007905134\n",
            "==============================\n",
            "==============================\n",
            "Iteration = :  13\n",
            "MSE on train data  0.08104139218269642\n",
            "OOBS Score :  14.212238966087495\n",
            "==============================\n",
            "==============================\n",
            "Iteration = :  14\n",
            "MSE on train data  0.3069071146245059\n",
            "OOBS Score :  15.699328063241094\n",
            "==============================\n",
            "==============================\n",
            "Iteration = :  15\n",
            "MSE on train data  0.042485090183233334\n",
            "OOBS Score :  14.011698817482346\n",
            "==============================\n",
            "==============================\n",
            "Iteration = :  16\n",
            "MSE on train data  0.03649209486166007\n",
            "OOBS Score :  15.650316205533596\n",
            "==============================\n",
            "==============================\n",
            "Iteration = :  17\n",
            "MSE on train data  0.0545899209486167\n",
            "OOBS Score :  14.565400197628447\n",
            "==============================\n",
            "==============================\n",
            "Iteration = :  18\n",
            "MSE on train data  0.031002964426877475\n",
            "OOBS Score :  14.081285765871261\n",
            "==============================\n",
            "==============================\n",
            "Iteration = :  19\n",
            "MSE on train data  0.15501976284584978\n",
            "OOBS Score :  13.018769762845848\n",
            "==============================\n",
            "==============================\n",
            "Iteration = :  20\n",
            "MSE on train data  0.0114380558300395\n",
            "OOBS Score :  13.307657835129364\n",
            "==============================\n",
            "==============================\n",
            "Iteration = :  21\n",
            "MSE on train data  0.15012351778656127\n",
            "OOBS Score :  16.179296909310498\n",
            "==============================\n",
            "==============================\n",
            "Iteration = :  22\n",
            "MSE on train data  0.0032509881422924792\n",
            "OOBS Score :  13.35332015810277\n",
            "==============================\n",
            "==============================\n",
            "Iteration = :  23\n",
            "MSE on train data  0.012445652173913052\n",
            "OOBS Score :  12.177598814229247\n",
            "==============================\n",
            "==============================\n",
            "Iteration = :  24\n",
            "MSE on train data  0.023349802371541512\n",
            "OOBS Score :  13.075454545454544\n",
            "==============================\n",
            "==============================\n",
            "Iteration = :  25\n",
            "MSE on train data  0.05210968379446641\n",
            "OOBS Score :  12.571588210889335\n",
            "==============================\n",
            "==============================\n",
            "Iteration = :  26\n",
            "MSE on train data  0.1364547650417215\n",
            "OOBS Score :  13.214120827482752\n",
            "==============================\n",
            "==============================\n",
            "Iteration = :  27\n",
            "MSE on train data  0.02233201581027668\n",
            "OOBS Score :  13.175039525691698\n",
            "==============================\n",
            "==============================\n",
            "Iteration = :  28\n",
            "MSE on train data  0.014397233201581048\n",
            "OOBS Score :  13.278374505928856\n",
            "==============================\n",
            "==============================\n",
            "Iteration = :  29\n",
            "MSE on train data  0.058908102766798455\n",
            "OOBS Score :  15.803927185004447\n",
            "==============================\n",
            "==============================\n",
            "Iteration = :  30\n",
            "MSE on train data  0.06714426877470353\n",
            "OOBS Score :  14.255523715415022\n",
            "==============================\n",
            "==============================\n",
            "Iteration = :  31\n",
            "MSE on train data  0.013675889328063257\n",
            "OOBS Score :  11.721497035573123\n",
            "==============================\n",
            "==============================\n",
            "Iteration = :  32\n",
            "MSE on train data  0.06371541501976281\n",
            "OOBS Score :  14.157114624505933\n",
            "==============================\n",
            "==============================\n",
            "Iteration = :  33\n",
            "MSE on train data  0.006047430830039511\n",
            "OOBS Score :  13.365864624505926\n",
            "==============================\n",
            "==============================\n",
            "Iteration = :  34\n",
            "MSE on train data  0.03162549407114624\n",
            "OOBS Score :  13.40904409658113\n",
            "==============================\n",
            "==============================\n",
            "Iteration = :  35\n",
            "MSE on train data  0.04502510688069696\n",
            "OOBS Score :  12.805949851778653\n",
            "==============================\n"
          ]
        }
      ],
      "source": [
        "train_mse_list = []\n",
        "oobs_score_list = []\n",
        "for iteration in range (1 , 36):\n",
        "  list_input_data =[]\n",
        "  list_output_data =[]\n",
        "  list_selected_row= []\n",
        "  list_selected_columns=[]\n",
        "  list_of_all_models = []\n",
        "  list_predict = []\n",
        "  oob_y_predict = []\n",
        "  y_sample_predict = []\n",
        "  for i in range(0,30):\n",
        "    final_sample_data , final_target_data,selected_rows,selected_columns = generating_samples(x,y)\n",
        "    list_input_data.append(final_sample_data)\n",
        "    list_output_data.append(final_target_data)\n",
        "    list_selected_row.append(selected_rows)\n",
        "    list_selected_columns.append(selected_columns)\n",
        "  \n",
        "  for i in range(0, 30):\n",
        "    input_data = list_input_data[i]\n",
        "    target_data = list_output_data[i]\n",
        "    classifier = DecisionTreeRegressor(max_depth=None,min_samples_split=2)\n",
        "    classifier.fit(input_data,target_data)\n",
        "    list_of_all_models.append(classifier)\n",
        "\n",
        "  for i in range(0,30):\n",
        "    pred_y = list_of_all_models[i].predict(x[:,list_selected_columns[i]])\n",
        "    list_predict.append(pred_y)\n",
        "\n",
        "  final_y_predict = []\n",
        "  for i in range(0 , 506):\n",
        "    med_y = []\n",
        "    for j in range(0 , 30): med_y.append(list_predict[j][i])\n",
        "    med = statistics.median(med_y)\n",
        "    final_y_predict.append(med)\n",
        "\n",
        "  mse = mean_squared_error(y, final_y_predict)\n",
        "  print(\"=\" * 30)\n",
        "  print(\"Iteration = : \" , iteration)\n",
        "  print(\"MSE on train data \" , mse)\n",
        "  train_mse_list.append(mse)\n",
        "\n",
        "  for i in range (0,506):\n",
        "    data = x[i]\n",
        "    for j in range(0,30):\n",
        "      if i not in list_selected_row[j]:\n",
        "        pred_y = list_of_all_models[j].predict(data[list_selected_columns[j]].reshape(1,-1))\n",
        "        y_sample_predict.append(pred_y[0])\n",
        "    y_sample_predict_oobs = statistics.median(y_sample_predict)\n",
        "    y_sample_predict.clear()\n",
        "    oob_y_predict.append(y_sample_predict_oobs)\n",
        "\n",
        "  total_error = 0\n",
        "  for i in range(0,506):\n",
        "    error = y[i] - oob_y_predict[i] #Square error : \n",
        "    error = error * error \n",
        "    total_error += error \n",
        "  oobs_score = total_error/506 \n",
        "  print(\"OOBS Score : \" , oobs_score) \n",
        "  print(\"=\" * 30)\n",
        "  oobs_score_list.append(oobs_score)"
      ]
    },
    {
      "cell_type": "code",
      "source": [
        "import math\n",
        "train_mse = np.asarray(train_mse_list) \n",
        "oobs_score = np.asarray(oobs_score_list)\n",
        "\n",
        "mean_mse = np.mean(train_mse) \n",
        "mean_oobs = np.mean(oobs_score)\n",
        "\n",
        "std_mse = np.std(train_mse) \n",
        "std_oobs = np.std(oobs_score)\n",
        "\n",
        "sqrt_n = math.sqrt(30) \n",
        "standard_error_mse = std_mse/sqrt_n \n",
        "standard_error_obs = std_oobs/sqrt_n\n",
        "\n",
        "lower_limit_mse = mean_mse - 2 * (standard_error_mse) \n",
        "upper_limit_mse = mean_mse + 2 * (standard_error_mse) \n",
        "print(\"=\" * 30) \n",
        "print(\"CI for MSE :\" , lower_limit_mse , \",\" , upper_limit_mse)\n",
        "\n",
        "lower_limit_oobs = mean_oobs - 2 * (standard_error_obs) \n",
        "upper_limit_oobs = mean_oobs + 2 * (standard_error_obs) \n",
        "print(\"CI for oob :\" , lower_limit_oobs , \",\" , upper_limit_oobs) \n",
        "print(\"=\" * 30)"
      ],
      "metadata": {
        "colab": {
          "base_uri": "https://localhost:8080/"
        },
        "id": "cFkaMf89Hrc_",
        "outputId": "e8c498ff-9ba2-435d-fd4a-580a42b2a8d0"
      },
      "execution_count": null,
      "outputs": [
        {
          "output_type": "stream",
          "name": "stdout",
          "text": [
            "==============================\n",
            "CI for MSE : 0.03890447154593453 , 0.08133923292369236\n",
            "CI for oob : 13.124233137699292 , 14.035342283133264\n",
            "==============================\n"
          ]
        }
      ]
    },
    {
      "cell_type": "markdown",
      "metadata": {
        "id": "jKTnJdiBVS_e"
      },
      "source": [
        "# <font color='blue'><b>Task 3</b></font>"
      ]
    },
    {
      "cell_type": "markdown",
      "metadata": {
        "id": "eXxrvZqHV1Fr"
      },
      "source": [
        "<font color='orange'><b>Flowchart for Task 3</b></font>"
      ]
    },
    {
      "cell_type": "markdown",
      "metadata": {
        "id": "NyjwEJ62V6a6"
      },
      "source": [
        "<b>Hint: </b> We created 30 models by using 30 samples in TASK-1. Here, we need send query point \"xq\"  to 30 models and perform the regression on the output generated by 30 models."
      ]
    },
    {
      "cell_type": "markdown",
      "metadata": {
        "id": "0emSwLL7VurD"
      },
      "source": [
        "![alt text](https://i.imgur.com/Y5cNhQk.png)"
      ]
    },
    {
      "cell_type": "markdown",
      "metadata": {
        "id": "29hjwKlWWDfo"
      },
      "source": [
        "*  <font color='blue'><b> Write code for TASK 3 </b></font>"
      ]
    },
    {
      "cell_type": "code",
      "execution_count": null,
      "metadata": {
        "id": "i_pUlSD-VYD1",
        "colab": {
          "base_uri": "https://localhost:8080/"
        },
        "outputId": "c8dbb17f-b7d8-4148-b317-5238b204f2fc"
      },
      "outputs": [
        {
          "output_type": "stream",
          "name": "stdout",
          "text": [
            "18.5\n"
          ]
        }
      ],
      "source": [
        "xq =[0.18,20.0,5.00,0.0,0.421,5.60,72.2,7.95,7.0,30.0,19.1,372.13,18.60]\n",
        "\n",
        "predicted_y_array = []\n",
        "for i in range(0,30):\n",
        "  model = list_of_all_models[i]\n",
        "  x_data = [xq[col] for col in list_selected_columns[i]]\n",
        "  x_data = np.array(x_data).reshape(1, -1)\n",
        "  y = model.predict(x_data)\n",
        "  predicted_y_array.append(y)\n",
        "y = np.array(predicted_y_array)\n",
        "predicted_y = np.median(y)\n",
        "print(predicted_y)"
      ]
    }
  ],
  "metadata": {
    "colab": {
      "collapsed_sections": [],
      "name": "Bootstrap_assignment_modified.ipynb",
      "provenance": []
    },
    "kernelspec": {
      "display_name": "Python 3",
      "language": "python",
      "name": "python3"
    },
    "language_info": {
      "codemirror_mode": {
        "name": "ipython",
        "version": 3
      },
      "file_extension": ".py",
      "mimetype": "text/x-python",
      "name": "python",
      "nbconvert_exporter": "python",
      "pygments_lexer": "ipython3",
      "version": "3.6.3"
    }
  },
  "nbformat": 4,
  "nbformat_minor": 0
}